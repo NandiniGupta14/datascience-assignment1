{
 "cells": [
  {
   "cell_type": "code",
   "execution_count": 1,
   "id": "9ace54c3-bc12-4183-93f4-74fc80fbbd30",
   "metadata": {},
   "outputs": [
    {
     "name": "stdout",
     "output_type": "stream",
     "text": [
      "Virat Kohli : 24936\n",
      "Jack Kallis : 25534\n",
      "Ricky Ponting : 27483\n",
      "Sachin Tendulkar : 34357\n"
     ]
    }
   ],
   "source": [
    "# Q1. Create a python program to sort the given list of tuples based on integer value using a lambda function.\n",
    "# [('Sachin Tendulkar', 34357), ('Ricky Ponting', 27483), ('Jack Kallis', 25534), ('Virat Kohli', 24936)]\n",
    "# Answer-\n",
    "data = [('Sachin Tendulkar', 34357), ('Ricky Ponting', 27483), ('Jack Kallis', 25534), ('Virat Kohli', 24936)]\n",
    "sorted_data = sorted(data,key = lambda x : x[1])\n",
    "for i,j in sorted_data:\n",
    "    print (f'{i} : {j}')"
   ]
  },
  {
   "cell_type": "code",
   "execution_count": 2,
   "id": "c452809f-025a-492c-a184-647ea5b6a9d2",
   "metadata": {},
   "outputs": [
    {
     "data": {
      "text/plain": [
       "[1, 4, 9, 16, 25, 36, 49, 64, 81, 100]"
      ]
     },
     "execution_count": 2,
     "metadata": {},
     "output_type": "execute_result"
    }
   ],
   "source": [
    "# Q2. Write a Python Program to find the squares of all the numbers in the given list of integers usinglambda and map functions.\n",
    "#      [1, 2, 3, 4, 5, 6, 7, 8, 9, 10]\n",
    "# Answer-\n",
    "l =  [1, 2, 3, 4, 5, 6, 7, 8, 9, 10]\n",
    "list(map(lambda x : x**2, l))"
   ]
  },
  {
   "cell_type": "code",
   "execution_count": 3,
   "id": "7c477f48-240e-49b6-8984-4378a6f52104",
   "metadata": {},
   "outputs": [
    {
     "data": {
      "text/plain": [
       "('1', '2', '3', '4', '5', '6', '7', '8', '9', '10')"
      ]
     },
     "execution_count": 3,
     "metadata": {},
     "output_type": "execute_result"
    }
   ],
   "source": [
    "# Q3. Write a python program to convert the given list of integers into a tuple of strings. Use map and lambda functions\n",
    "# Given String: [1, 2, 3, 4, 5, 6, 7, 8, 9, 10]\n",
    "# Expected output: ('1', '2', '3', '4', '5', '6', '7', '8', '9', '10')\n",
    "# Answer- \n",
    "l = [1,2,3,4,5,6,7,8,9,10]\n",
    "tuple(map(lambda x : str(x), l))\n"
   ]
  },
  {
   "cell_type": "code",
   "execution_count": 5,
   "id": "75f4205f-c9a9-4293-aae9-2975f195ffec",
   "metadata": {},
   "outputs": [
    {
     "name": "stdout",
     "output_type": "stream",
     "text": [
      "product of the numbers from 1 to 25 : 15511210043330985984000000\n"
     ]
    }
   ],
   "source": [
    "# Q4. Write a python program using reduce function to compute the product of a list containing numbers from 1 to 25.\n",
    "# Answer-\n",
    "from functools import reduce\n",
    "\n",
    "l = range(1,26)\n",
    "product = reduce(lambda x,y : x*y,l)\n",
    "print(\"product of the numbers from 1 to 25 :\", product)\n"
   ]
  },
  {
   "cell_type": "code",
   "execution_count": 6,
   "id": "428a082e-9083-4a38-bee9-9b48627de258",
   "metadata": {},
   "outputs": [
    {
     "name": "stdout",
     "output_type": "stream",
     "text": [
      "Numbers divisible by 2 and 3 : [6, 60, 90, 120]\n"
     ]
    }
   ],
   "source": [
    "# Q5. Write a python program to filter the numbers in a given list that are divisible by 2 and 3 using the filter function.\n",
    "#     [2, 3, 6, 9, 27, 60, 90, 120, 55, 46]\n",
    "# Answer-\n",
    "l = [2, 3, 6, 9, 27, 60, 90, 120, 55, 46]\n",
    "filter_numbers = list(filter(lambda x : x%2 == 0 and x%3 == 0,l))\n",
    "print(\"Numbers divisible by 2 and 3 :\",filter_numbers)"
   ]
  },
  {
   "cell_type": "code",
   "execution_count": 7,
   "id": "e35de71e-7191-4973-a1d6-317c53d2473b",
   "metadata": {},
   "outputs": [
    {
     "name": "stdout",
     "output_type": "stream",
     "text": [
      "palindromes in the list : ['php', 'aba', 'radar', 'level']\n"
     ]
    }
   ],
   "source": [
    "# Q6. Write a python program to find palindromes in the given list of strings using lambda and filter function.\n",
    "#     ['python', 'php', 'aba', 'radar', 'level']\n",
    "# Answer-\n",
    "l =  ['python', 'php', 'aba', 'radar', 'level']\n",
    "palindromes = list(filter(lambda x : x == x[: : -1], l))\n",
    "print(\"palindromes in the list :\", palindromes)"
   ]
  },
  {
   "cell_type": "code",
   "execution_count": null,
   "id": "901dff33-8f1d-4374-8dee-d99162287864",
   "metadata": {},
   "outputs": [],
   "source": []
  }
 ],
 "metadata": {
  "kernelspec": {
   "display_name": "Python 3 (ipykernel)",
   "language": "python",
   "name": "python3"
  },
  "language_info": {
   "codemirror_mode": {
    "name": "ipython",
    "version": 3
   },
   "file_extension": ".py",
   "mimetype": "text/x-python",
   "name": "python",
   "nbconvert_exporter": "python",
   "pygments_lexer": "ipython3",
   "version": "3.10.8"
  }
 },
 "nbformat": 4,
 "nbformat_minor": 5
}
